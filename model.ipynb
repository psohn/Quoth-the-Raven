{
 "cells": [
  {
   "cell_type": "markdown",
   "metadata": {},
   "source": [
    "## Modelling\n",
    "\n",
    "We will test different models to see which one produces the best recommendations. All models will be based on KNNs. Since we have no way of telling for sure if a recommendation is good, we will pick 3 poems, read them, and then use them in the model to see if the recommended poems are similar. We will be using Euclidean distances (ED) although we intuitively want to use cosine similarities (CS) because CS does not satisfy the Cauchy-Schwarz inequality (also CS funny enough) and does not make sense to combine with authors and genre. We may do a quick cosine similarity test using only text."
   ]
  },
  {
   "cell_type": "code",
   "execution_count": 1,
   "metadata": {},
   "outputs": [],
   "source": [
    "### importing libraries ###\n",
    "\n",
    "import pandas as pd\n",
    "from sklearn.neighbors import KNeighborsClassifier"
   ]
  },
  {
   "cell_type": "code",
   "execution_count": 2,
   "metadata": {},
   "outputs": [],
   "source": [
    "### importing dataframes ###\n",
    "\n",
    "df = pd.read_csv('data/poem.csv', index_col = 0)\n",
    "text = pd.read_csv('data/text.csv', index_col = 0)\n",
    "genre = pd.read_csv('data/genre.csv', index_col = 0)\n",
    "author = pd.read_csv('data/author.csv', index_col = 0)"
   ]
  },
  {
   "cell_type": "markdown",
   "metadata": {},
   "source": [
    "Let's make some functions for the models."
   ]
  },
  {
   "cell_type": "code",
   "execution_count": 3,
   "metadata": {},
   "outputs": [],
   "source": [
    "### build function ###\n",
    "\n",
    "# a function to append metrics into pandas dataframe\n",
    "def features(metrics):\n",
    "    '''\n",
    "    function to append metrics\n",
    "    \n",
    "    input:\n",
    "    metrics -> list of features\n",
    "    \n",
    "    output: \n",
    "    appended pandas dataframe\n",
    "    '''\n",
    "    \n",
    "    feature = metrics[0]\n",
    "    \n",
    "    if len(metrics) > 1:\n",
    "        for metric in metrics[1:]:\n",
    "            feature = feature.join(metric)\n",
    "        \n",
    "    return feature\n",
    "    \n",
    "\n",
    "# a function to fit metrics into KNN model\n",
    "def build_model(metrics):\n",
    "    '''\n",
    "    function to build a model\n",
    "    \n",
    "    input: \n",
    "    metrics -> list of features\n",
    "    \n",
    "    output: \n",
    "    KNN model\n",
    "    '''\n",
    "    \n",
    "    feature = features(metrics)\n",
    "    \n",
    "    model = KNeighborsClassifier().fit(feature, df.index)\n",
    "    \n",
    "    return model\n",
    "\n",
    "# a function to return index of neighbours\n",
    "def neighbours(metrics, n_neighbours, poem_index):\n",
    "    '''\n",
    "    function to return nearest neighbours\n",
    "    \n",
    "    input: \n",
    "    metrics -> list of features\n",
    "    n_neighbours -> int number of recommendations\n",
    "    poem_index -> index of poem\n",
    "    \n",
    "    output:\n",
    "    index of neighbours\n",
    "    '''\n",
    "    \n",
    "    feature = features(metrics)\n",
    "    \n",
    "    model = build_model(metrics)\n",
    "    \n",
    "    poem = feature.iloc[poem_index:poem_index+1, :]\n",
    "    \n",
    "    neighbours = model.kneighbors(X = poem, n_neighbors = n_neighbours + 1)\n",
    "    \n",
    "    return neighbours[1][0][1:]\n",
    "\n",
    "# a function return poem recommendations\n",
    "def recommend(metrics, n_neighbours, poem_index):\n",
    "    '''\n",
    "    function to return recommendations\n",
    "    \n",
    "    input: \n",
    "    metrics -> list of features\n",
    "    n_neighbours -> int number of recommendations\n",
    "    poem_index -> index of poem\n",
    "    \n",
    "    output:\n",
    "    recommendations\n",
    "    '''\n",
    "    \n",
    "    title = df.iloc[poem_index, 0]\n",
    "    author = df.iloc[poem_index, 1]\n",
    "    text = df.iloc[poem_index, 3]\n",
    "    \n",
    "    print(f'Your poem is \\\"{title}\\\" by {author}: \\n{text} \\n')\n",
    "    \n",
    "    indices = neighbours(metrics, n_neighbours, poem_index)\n",
    "    \n",
    "    for index in indices:\n",
    "        title = df.iloc[index, 0]\n",
    "        author = df.iloc[index, 1]\n",
    "        text = df.iloc[index, 3]\n",
    "        \n",
    "        print(f'A recommended poem is \\\"{title}\\\" by {author}: \\n{text} \\n')"
   ]
  },
  {
   "cell_type": "markdown",
   "metadata": {},
   "source": [
    "#### Models\n",
    "\n",
    "Let's test our models."
   ]
  },
  {
   "cell_type": "code",
   "execution_count": 15,
   "metadata": {},
   "outputs": [
    {
     "name": "stdout",
     "output_type": "stream",
     "text": [
      "Your poem is \"1-800-FEAR\" by Jody Gladding: \n",
      "We'd like to talk with you about fear they said so many people live in fear these days they drove up all four of them in a small car nice boy they said beautiful dogs they said so friendly the man ahead of the woman the other two waiting in the drive I was outside digging up the garden no one home I said what are you selling anyway I'm not interested I said well you have a nice day they said here's our card there's a phone number you can call anytime any other houses down this road anyone else live here we'd like to talk to them about living in fear \n",
      "\n",
      "A recommended poem is \"Portrait of D17: Female, 37 Years Old\" by Paisley Rekdal: \n",
      "In Phnom Penh’s museum, the skulls are stacked in aquarium tanks: grim toys for hooks to ply free from the rubble. Here, each one gets a tag, a mount, a photograph to suggest a life, perhaps a name, might be envisioned. Yet I’m more moved by what’s anonymous, past; imagine fields of faces sunken with decay, eyes jellied in their sockets, heel meats bruised, bloated in the rain— Perhaps the skulls prefer a lack of names as, scrubbed of self and skin, they’re trauma’s best witnesses: fused by time and pain to one crisis, never to be separated. Lost as men, they become event. in this, they achieve a terrible transcendence.  \n",
      "\n",
      "A recommended poem is \"Time of the Missile\" by George Oppen: \n",
      "I remember a square of New York’s Hudson River glinting between warehouses. Difficult to approach the water below the pier Swirling, covered with oil the ship at the pier A steel wall: tons in the water, Width. The hand for holding, Legs for walking, The eye sees! It floods in on us from here to Jersey tangled in the grey bright air! Become the realm of nations. My love, my love, We are endangered Totally at last. Look Anywhere to the sight’s limit: space Which is viviparous: Place of the mind And eye. Which can destroy us, Re-arrange itself, assert Its own stone chain reaction. \n",
      "\n",
      "A recommended poem is \"Darkness Starts\" by Christian Wiman: \n",
      "A shadow in the shape of a house slides out of a house and loses its shape on the lawn. Trees seek each other as the wind within them dies. Darkness starts inside of things but keeps on going when the things are gone. Barefoot careless in the farthest parts of the yard children become their cries. \n",
      "\n",
      "A recommended poem is \"Poem Ending with a Sentence by Heath Ledger\" by Frank Bidart: \n",
      "Each grinding flattened American vowel smashed to centerlessness, his glee that whatever long ago mutilated his mouth, he has mastered to mutilate you: the Joker's voice, so unlike the bruised, withheld, wounded voice of Ennis Del Mar. Once I have the voice that's the line and at the end ofthe line is a hook and attached to that is the soul.  \n",
      "\n",
      "A recommended poem is \"Populist\" by George Oppen: \n",
      "I dreamed myself of their people, I am of their people, I thought they watched me that I watched them that they watched the sun and the clouds for the cities are no longer mine image images of existence (or song of myself?) and the roads for the light in the rear-view mirror is not death but the light of other lives tho if I stumble on a rock I speak of rock if I am to say anythinganything if I am to tell of myself splendor of the roads secrecy of paths for a word like a glass sphere encloses the word opening and opening myself and I am sick for a moment with fear let the magic infants speak we who have brought steel and stone again and again into the cities in that word blind word must speak and speak the magic infants’ speech driving northward the populist north slowly in the sunrise the lapping of shallow waters tongues of the inlets glisten like fur in the low tides all that childhood envied the sounds of the ocean over the flatlands poems piers foolhardy structures and the lives the ingenious lives the winds squall from the grazing ranches’ wandering fences young workmen’s loneliness on the structures has touched and touched the heavy tools tools in our hands in the clamorous country birth- light savage light of the landscape magic page the magic infants speak \n",
      "\n"
     ]
    }
   ],
   "source": [
    "### genre model ###\n",
    "\n",
    "# genre\n",
    "metrics = [genre]\n",
    "\n",
    "# recommendations\n",
    "recommend(metrics, 5, 0)"
   ]
  },
  {
   "cell_type": "code",
   "execution_count": 5,
   "metadata": {},
   "outputs": [
    {
     "name": "stdout",
     "output_type": "stream",
     "text": [
      "Your poem is \"1-800-FEAR\" by Jody Gladding: \n",
      "We'd like to talk with you about fear they said so many people live in fear these days they drove up all four of them in a small car nice boy they said beautiful dogs they said so friendly the man ahead of the woman the other two waiting in the drive I was outside digging up the garden no one home I said what are you selling anyway I'm not interested I said well you have a nice day they said here's our card there's a phone number you can call anytime any other houses down this road anyone else live here we'd like to talk to them about living in fear \n",
      "\n",
      "A recommended poem is \"Congregations\" by Omar Pérez: \n",
      "One fisherman alongside the other one seagull alongside the other seagulls over the fishermen.  \n",
      "\n",
      "A recommended poem is \"Bede&#39;s Death Song\" by The Venerable Bede: \n",
      "Fore there neidfaerae naenig uuiurthit thoncsnotturra than him tharf sie to ymbhycggannae aer his hiniongae huaet his gastae godaes aeththa yflaes aefter deothdaege doemid uueorthae. \n",
      "\n",
      "A recommended poem is \"Benny Said, Ruby Said\" by J. Patrick Lewis: \n",
      "Benny said To Ruby Lee, “M-A-R-R-Y M-E!” Ruby said, To Benny, “Ben, wouldn't That be F-U-N?” Benny said, “My Ruby Lee, We will W-E-D Only if you let me K- I-S-S you Every day!” \n",
      "\n",
      "A recommended poem is \"Dakota Homecoming\" by Gwen Nell Westerman: \n",
      "We are so honored that you are here, they said. We know that this is your homeland, they said. The admission price is five dollars, they said. Here is your button for the event, they said. It means so much to us that you are here, they said. We want to write an apology letter, they said. Tell us what to say.  \n",
      "\n",
      "A recommended poem is \"The friend\" by Marge Piercy: \n",
      "We sat across the table. he said, cut off your hands. they are always poking at things. they might touch me. I said yes. Food grew cold on the table. he said, burn your body. it is not clean and smells like sex. it rubs my mind sore. I said yes. I love you, I said. That’s very nice, he said I like to be loved, that makes me happy. Have you cut off your hands yet? \n",
      "\n"
     ]
    }
   ],
   "source": [
    "### text model ###\n",
    "\n",
    "# text\n",
    "metrics = [text]\n",
    "\n",
    "# recommendations\n",
    "recommend(metrics, 5, 0)"
   ]
  },
  {
   "cell_type": "code",
   "execution_count": 6,
   "metadata": {},
   "outputs": [
    {
     "name": "stdout",
     "output_type": "stream",
     "text": [
      "Your poem is \"1-800-FEAR\" by Jody Gladding: \n",
      "We'd like to talk with you about fear they said so many people live in fear these days they drove up all four of them in a small car nice boy they said beautiful dogs they said so friendly the man ahead of the woman the other two waiting in the drive I was outside digging up the garden no one home I said what are you selling anyway I'm not interested I said well you have a nice day they said here's our card there's a phone number you can call anytime any other houses down this road anyone else live here we'd like to talk to them about living in fear \n",
      "\n",
      "A recommended poem is \"hill wife\" by Jody Gladding: \n",
      "beside the grave the ties gave was she there everywhere in the fern or return when he called her of black alder on her lips the fresh chips or felled tree she was free and no child and too wild \n",
      "\n",
      "A recommended poem is \"Art is an Act\" by Jody Gladding: \n",
      "not self of violence against will not be gainsaid will brook no argument won't suffer the fools gladly would I climb a mountain of salt with you before dawn lodestar my freight the violent silence the most beautiful word is trespass \n",
      "\n",
      "A recommended poem is \"After Eden\" by Rachel Wetzsteon: \n",
      "Somewhere Zeno was smiling, the foul goblins of paradox were wearing their fairest clothes that night. My Dinner with a Chainsaw, the evening could have been called; and when one too many led to wise judgements too few, “I’m trying to break up with you!” he shouted as stockings and scruples flew; and what was over wasn’t; the brutal doings were sweeter than a caress; the thrill of it happening and the horror of it being an awful mistake collided like sweaty bodies in the dark, disheveled room. So this is moving on, she reflected after he left. But what was motion? No straight bright line but a wind every bit as stormy as the people it carried away from safety, through towns that froze and burned, helping them forward but not letting them forget for a second their ceaseless looking for what is lost, their sad resemblance to the quick and stubborn arrows that never arrive. \n",
      "\n",
      "A recommended poem is \"Cadmus and Harmonia\" by Matthew Arnold: \n",
      "Far, far from here, The Adriatic breaks in a warm bay Among the green Illyrian hills; and there The sunshine in the happy glens is fair, And by the sea, and in the brakes. The grass is cool, the sea-side air Buoyant and fresh, the mountain flowers More virginal and sweet than ours. And there, they say, two bright and aged snakes, Who once were Cadmus and Harmonia, Bask in the glens or on the warm sea-shore, In breathless quiet, after all their ills; Nor do they see their country, nor the place Where the Sphinx lived among the frowning hills, Nor the unhappy palace of their race, Nor Thebes, nor the Ismenus, any more. There those two live, far in the Illyrian brakes! They had stay'd long enough to see, In Thebes, the billow of calamity Over their own dear children roll'd, Curse upon curse, pang upon pang, For years, they sitting helpless in their home, A grey old man and woman; yet of old The Gods had to their marriage come, And at the banquet all the Muses sang. Therefore they did not end their days In sight of blood, but were rapt, far away, To where the west-wind plays, And murmurs of the Adriatic come To those untrodden mountain-lawns; and there Placed safely in changed forms, the pair Wholly forgot their first sad life, and home, And all that Theban woe, and stray For ever through the glens, placid and dumb. \n",
      "\n",
      "A recommended poem is \"At the Ear, Nose, and Throat Clinic\" by Gail Mazur: \n",
      "One of those appointments you postpone until anxiety propels you to the phone, then have to wait too long for, to take an inconvenient time . . . Late in the day, an old man and I watch the minute hand on the waiting room wall. I’ve papers to grade, but he wants someone to talk to, and his attendant’s rude, so he turns his whiskery face to me: “Y’ know, I lived my whole life in Waltham, worked 40 years at the watch factory—oh, that city used to be so beautiful, now it’s a mess, those Cubans and Puerto Ricans, they ruined it.” Coiled in his wheelchair, he’s mad for company, probably scared he’s dying, * and so am I. I don’t remember Watch City as beautiful the year I was eleven, when Merle and I rode the Grove Street bus to Moody Street to shoplift haircurlers and Pond’s Vanishing Cream, nickel items at the Waltham Woolworth’s. It was an old factory town, wooden triple-deckers, water rats swimming in the oily river. Merle and I didn’t risk a furtive life of crime in our well-kempt Auburndale where we thought we were well-known, and canoers paddled the same Charles River past our homes. And I still wonder what could have vanished when we rubbed the mystery elixir on our silky cheeks? * His cheeks sucked in, this geezer could be my grandfather forty years ago, so I ignore his racist overture and agree Waltham was beautiful, as the attendant takes his Social Security card, and whistles: “Boy, are you old!” then mutters something else in Spanish. The number must be low. . . . “1936— that was the first year of Social Security!” the old guy brags. The kid forsakes our ancient history, flexes his muscles. He’s probably been listening to insults for an hour in the Elder Van, he’s bored and angry—why should he be nice? Yet hungry for a distracting fact or story, I encourage the grandfather, I want to be treated well myself some day, when I’ll need it even more than I do now. . . . My little bids for attention, my birds, fragile fluttering words, desire to be visible and seen. . . . “FDR was okay, wasn’t he?” I’m playing 90, it’s what I do to make us both less lonely, reminisce as if we’d shared the ’30s, as if I’d been there, come from Sicily or Limerick, a seamstress earning her hard living one town over. I always sat this way with Doc, years after he’d retired, his best treasure (besides my golden mother) a gold pocket watch, a Handsome Waltham watch— * a different time, when the things a person held or owned weren’t many but were permanent, a part of who you were. So his elegant watch confused me toward the idea my little dentist grandfather had some connection to the company, as if he’d labored there, a master craftsman, had been rewarded by a grateful boss. His bit of luxury, the swirling monogram on the back (which opened with a click), IR, for Isaac Rosenberg, timepiece connected by a chain to a safety pin at his frayed striped trouser pocket; another pin secured his Shawmut bankbook, deposits he’d made decades before * that I’d inherit, $214, Shawmut branch nearby the long-gone Waldorf Cafeteria where he idled weekday mornings with his cronies, also reminiscing, I suppose (although then I didn’t think of it), the Good Old Days before the motorcar, before their children moved away. Dexterity and skill gone, too, from his arthritic hands. He relished those mornings! The black-and-white tiled floor, the nearly empty tables, the Perfection Salad, Welsh rarebit, the “bloomberry pie.” The counterman. They serve an elegant porridge there, he told me, gourmet of the ordinary, State-of-Maine-ah grandfather, my Mainiac. The soon-to-be-widowed wives elsewhere, polishing mahogany veneer, or playing bridge, or shopping Coolidge Corner from butcher to baker in prescient black dresses. Old men and women so relieved to be rid of the burden of one another for a whole morning, of the tired bickering sentences of long American marriages, of pain and disappointment. What memories they’d had of courtships long since passed on to grandchildren, and half-false anyway, like studio photographs, mythic stories they could live with; now forgotten, the mistakes they’d been too fearful or devout to rectify. I miss that cafeteria, the whole idea of cafeterias, although Doc never took me, just pointed to it on our Sunday drive, repeating paeans to gray porridge, something no description’s glow could make me want. Waltham had them, too, free-fire zones a kid alone could enter with five cents for huge iced cookies, black-and-whites, * half chocolate, half vanilla, all Crisco and white sugar, chewed in gluttonous companionable half-light, wonderful— But who’d know that now? Who cares? Merle and I did everything subversive we could imagine—which wasn’t much. I’m sure I cruised Sin City in my mind, decayed old town—nowhere—but to me forbidden fruit: the 5 & 10, eyelash curlers, odd metal torture instruments I smuggled home that pinched my lids and made my lashes angle wildly up, delinquent startled in the bathroom mirror; Tangee lipsticks the size of my little finger, unflattering coral; pink girdles I’d eye furtively, wondering that I’d have to wriggle into one someday, or wear the bony corset my grandmother assured me was my fate. Oh, esoteric glamorous puzzle of the vanished vanishing cream . . . * Later, not so much later, the first day of my driver’s license, I drove the family station wagon down Moody Street and banged the traffic policeman’s rubber perch. He jumped down before it bounced the street, and yelled me over in a rage. Or maybe, he was kindly, it’s only my criminal terror I remember, of punishment fine-tuned, my ruined life, my new rights vanishing. Hardly a threat, I know now, the feckless cop. I gripped the steering wheel so hard to stop the huge recalcitrant Ford, doomed to lose my brand-new temporary license— How could I think, my budding power stripped, I’d ever get the chance to live or drive? \n",
      "\n"
     ]
    }
   ],
   "source": [
    "### author model ###\n",
    "\n",
    "# author\n",
    "metrics = [author]\n",
    "\n",
    "# recommendations\n",
    "recommend(metrics, 5, 0)"
   ]
  },
  {
   "cell_type": "code",
   "execution_count": 7,
   "metadata": {},
   "outputs": [
    {
     "name": "stdout",
     "output_type": "stream",
     "text": [
      "Your poem is \"1-800-FEAR\" by Jody Gladding: \n",
      "We'd like to talk with you about fear they said so many people live in fear these days they drove up all four of them in a small car nice boy they said beautiful dogs they said so friendly the man ahead of the woman the other two waiting in the drive I was outside digging up the garden no one home I said what are you selling anyway I'm not interested I said well you have a nice day they said here's our card there's a phone number you can call anytime any other houses down this road anyone else live here we'd like to talk to them about living in fear \n",
      "\n",
      "A recommended poem is \"Portrait of D17: Female, 37 Years Old\" by Paisley Rekdal: \n",
      "In Phnom Penh’s museum, the skulls are stacked in aquarium tanks: grim toys for hooks to ply free from the rubble. Here, each one gets a tag, a mount, a photograph to suggest a life, perhaps a name, might be envisioned. Yet I’m more moved by what’s anonymous, past; imagine fields of faces sunken with decay, eyes jellied in their sockets, heel meats bruised, bloated in the rain— Perhaps the skulls prefer a lack of names as, scrubbed of self and skin, they’re trauma’s best witnesses: fused by time and pain to one crisis, never to be separated. Lost as men, they become event. in this, they achieve a terrible transcendence.  \n",
      "\n",
      "A recommended poem is \"Time of the Missile\" by George Oppen: \n",
      "I remember a square of New York’s Hudson River glinting between warehouses. Difficult to approach the water below the pier Swirling, covered with oil the ship at the pier A steel wall: tons in the water, Width. The hand for holding, Legs for walking, The eye sees! It floods in on us from here to Jersey tangled in the grey bright air! Become the realm of nations. My love, my love, We are endangered Totally at last. Look Anywhere to the sight’s limit: space Which is viviparous: Place of the mind And eye. Which can destroy us, Re-arrange itself, assert Its own stone chain reaction. \n",
      "\n",
      "A recommended poem is \"Darkness Starts\" by Christian Wiman: \n",
      "A shadow in the shape of a house slides out of a house and loses its shape on the lawn. Trees seek each other as the wind within them dies. Darkness starts inside of things but keeps on going when the things are gone. Barefoot careless in the farthest parts of the yard children become their cries. \n",
      "\n",
      "A recommended poem is \"Poem Ending with a Sentence by Heath Ledger\" by Frank Bidart: \n",
      "Each grinding flattened American vowel smashed to centerlessness, his glee that whatever long ago mutilated his mouth, he has mastered to mutilate you: the Joker's voice, so unlike the bruised, withheld, wounded voice of Ennis Del Mar. Once I have the voice that's the line and at the end ofthe line is a hook and attached to that is the soul.  \n",
      "\n",
      "A recommended poem is \"Populist\" by George Oppen: \n",
      "I dreamed myself of their people, I am of their people, I thought they watched me that I watched them that they watched the sun and the clouds for the cities are no longer mine image images of existence (or song of myself?) and the roads for the light in the rear-view mirror is not death but the light of other lives tho if I stumble on a rock I speak of rock if I am to say anythinganything if I am to tell of myself splendor of the roads secrecy of paths for a word like a glass sphere encloses the word opening and opening myself and I am sick for a moment with fear let the magic infants speak we who have brought steel and stone again and again into the cities in that word blind word must speak and speak the magic infants’ speech driving northward the populist north slowly in the sunrise the lapping of shallow waters tongues of the inlets glisten like fur in the low tides all that childhood envied the sounds of the ocean over the flatlands poems piers foolhardy structures and the lives the ingenious lives the winds squall from the grazing ranches’ wandering fences young workmen’s loneliness on the structures has touched and touched the heavy tools tools in our hands in the clamorous country birth- light savage light of the landscape magic page the magic infants speak \n",
      "\n"
     ]
    }
   ],
   "source": [
    "### genre author model ###\n",
    "\n",
    "# genre\n",
    "metrics = [genre, author]\n",
    "\n",
    "# recommendations\n",
    "recommend(metrics, 5, 0)"
   ]
  },
  {
   "cell_type": "code",
   "execution_count": 8,
   "metadata": {
    "scrolled": true
   },
   "outputs": [
    {
     "name": "stdout",
     "output_type": "stream",
     "text": [
      "Your poem is \"1-800-FEAR\" by Jody Gladding: \n",
      "We'd like to talk with you about fear they said so many people live in fear these days they drove up all four of them in a small car nice boy they said beautiful dogs they said so friendly the man ahead of the woman the other two waiting in the drive I was outside digging up the garden no one home I said what are you selling anyway I'm not interested I said well you have a nice day they said here's our card there's a phone number you can call anytime any other houses down this road anyone else live here we'd like to talk to them about living in fear \n",
      "\n",
      "A recommended poem is \"hill wife\" by Jody Gladding: \n",
      "beside the grave the ties gave was she there everywhere in the fern or return when he called her of black alder on her lips the fresh chips or felled tree she was free and no child and too wild \n",
      "\n",
      "A recommended poem is \"Portrait of D17: Female, 37 Years Old\" by Paisley Rekdal: \n",
      "In Phnom Penh’s museum, the skulls are stacked in aquarium tanks: grim toys for hooks to ply free from the rubble. Here, each one gets a tag, a mount, a photograph to suggest a life, perhaps a name, might be envisioned. Yet I’m more moved by what’s anonymous, past; imagine fields of faces sunken with decay, eyes jellied in their sockets, heel meats bruised, bloated in the rain— Perhaps the skulls prefer a lack of names as, scrubbed of self and skin, they’re trauma’s best witnesses: fused by time and pain to one crisis, never to be separated. Lost as men, they become event. in this, they achieve a terrible transcendence.  \n",
      "\n",
      "A recommended poem is \"Darkness Starts\" by Christian Wiman: \n",
      "A shadow in the shape of a house slides out of a house and loses its shape on the lawn. Trees seek each other as the wind within them dies. Darkness starts inside of things but keeps on going when the things are gone. Barefoot careless in the farthest parts of the yard children become their cries. \n",
      "\n",
      "A recommended poem is \"Poem Ending with a Sentence by Heath Ledger\" by Frank Bidart: \n",
      "Each grinding flattened American vowel smashed to centerlessness, his glee that whatever long ago mutilated his mouth, he has mastered to mutilate you: the Joker's voice, so unlike the bruised, withheld, wounded voice of Ennis Del Mar. Once I have the voice that's the line and at the end ofthe line is a hook and attached to that is the soul.  \n",
      "\n",
      "A recommended poem is \"Art is an Act\" by Jody Gladding: \n",
      "not self of violence against will not be gainsaid will brook no argument won't suffer the fools gladly would I climb a mountain of salt with you before dawn lodestar my freight the violent silence the most beautiful word is trespass \n",
      "\n"
     ]
    }
   ],
   "source": [
    "### genre author model ###\n",
    "\n",
    "# genre author\n",
    "metrics = [genre, author * 2]\n",
    "\n",
    "# recommendations\n",
    "recommend(metrics, 5, 0)"
   ]
  },
  {
   "cell_type": "code",
   "execution_count": 9,
   "metadata": {},
   "outputs": [
    {
     "name": "stdout",
     "output_type": "stream",
     "text": [
      "Your poem is \"1-800-FEAR\" by Jody Gladding: \n",
      "We'd like to talk with you about fear they said so many people live in fear these days they drove up all four of them in a small car nice boy they said beautiful dogs they said so friendly the man ahead of the woman the other two waiting in the drive I was outside digging up the garden no one home I said what are you selling anyway I'm not interested I said well you have a nice day they said here's our card there's a phone number you can call anytime any other houses down this road anyone else live here we'd like to talk to them about living in fear \n",
      "\n",
      "A recommended poem is \"Portrait of D17: Female, 37 Years Old\" by Paisley Rekdal: \n",
      "In Phnom Penh’s museum, the skulls are stacked in aquarium tanks: grim toys for hooks to ply free from the rubble. Here, each one gets a tag, a mount, a photograph to suggest a life, perhaps a name, might be envisioned. Yet I’m more moved by what’s anonymous, past; imagine fields of faces sunken with decay, eyes jellied in their sockets, heel meats bruised, bloated in the rain— Perhaps the skulls prefer a lack of names as, scrubbed of self and skin, they’re trauma’s best witnesses: fused by time and pain to one crisis, never to be separated. Lost as men, they become event. in this, they achieve a terrible transcendence.  \n",
      "\n",
      "A recommended poem is \"Populist\" by George Oppen: \n",
      "I dreamed myself of their people, I am of their people, I thought they watched me that I watched them that they watched the sun and the clouds for the cities are no longer mine image images of existence (or song of myself?) and the roads for the light in the rear-view mirror is not death but the light of other lives tho if I stumble on a rock I speak of rock if I am to say anythinganything if I am to tell of myself splendor of the roads secrecy of paths for a word like a glass sphere encloses the word opening and opening myself and I am sick for a moment with fear let the magic infants speak we who have brought steel and stone again and again into the cities in that word blind word must speak and speak the magic infants’ speech driving northward the populist north slowly in the sunrise the lapping of shallow waters tongues of the inlets glisten like fur in the low tides all that childhood envied the sounds of the ocean over the flatlands poems piers foolhardy structures and the lives the ingenious lives the winds squall from the grazing ranches’ wandering fences young workmen’s loneliness on the structures has touched and touched the heavy tools tools in our hands in the clamorous country birth- light savage light of the landscape magic page the magic infants speak \n",
      "\n",
      "A recommended poem is \"Poem Ending with a Sentence by Heath Ledger\" by Frank Bidart: \n",
      "Each grinding flattened American vowel smashed to centerlessness, his glee that whatever long ago mutilated his mouth, he has mastered to mutilate you: the Joker's voice, so unlike the bruised, withheld, wounded voice of Ennis Del Mar. Once I have the voice that's the line and at the end ofthe line is a hook and attached to that is the soul.  \n",
      "\n",
      "A recommended poem is \"Time of the Missile\" by George Oppen: \n",
      "I remember a square of New York’s Hudson River glinting between warehouses. Difficult to approach the water below the pier Swirling, covered with oil the ship at the pier A steel wall: tons in the water, Width. The hand for holding, Legs for walking, The eye sees! It floods in on us from here to Jersey tangled in the grey bright air! Become the realm of nations. My love, my love, We are endangered Totally at last. Look Anywhere to the sight’s limit: space Which is viviparous: Place of the mind And eye. Which can destroy us, Re-arrange itself, assert Its own stone chain reaction. \n",
      "\n",
      "A recommended poem is \"Darkness Starts\" by Christian Wiman: \n",
      "A shadow in the shape of a house slides out of a house and loses its shape on the lawn. Trees seek each other as the wind within them dies. Darkness starts inside of things but keeps on going when the things are gone. Barefoot careless in the farthest parts of the yard children become their cries. \n",
      "\n"
     ]
    }
   ],
   "source": [
    "### genre text model ###\n",
    "\n",
    "# genre text\n",
    "metrics = [genre, text]\n",
    "\n",
    "# recommendations\n",
    "recommend(metrics, 5, 0)"
   ]
  },
  {
   "cell_type": "code",
   "execution_count": 10,
   "metadata": {},
   "outputs": [
    {
     "name": "stdout",
     "output_type": "stream",
     "text": [
      "Your poem is \"1-800-FEAR\" by Jody Gladding: \n",
      "We'd like to talk with you about fear they said so many people live in fear these days they drove up all four of them in a small car nice boy they said beautiful dogs they said so friendly the man ahead of the woman the other two waiting in the drive I was outside digging up the garden no one home I said what are you selling anyway I'm not interested I said well you have a nice day they said here's our card there's a phone number you can call anytime any other houses down this road anyone else live here we'd like to talk to them about living in fear \n",
      "\n",
      "A recommended poem is \"Portrait of D17: Female, 37 Years Old\" by Paisley Rekdal: \n",
      "In Phnom Penh’s museum, the skulls are stacked in aquarium tanks: grim toys for hooks to ply free from the rubble. Here, each one gets a tag, a mount, a photograph to suggest a life, perhaps a name, might be envisioned. Yet I’m more moved by what’s anonymous, past; imagine fields of faces sunken with decay, eyes jellied in their sockets, heel meats bruised, bloated in the rain— Perhaps the skulls prefer a lack of names as, scrubbed of self and skin, they’re trauma’s best witnesses: fused by time and pain to one crisis, never to be separated. Lost as men, they become event. in this, they achieve a terrible transcendence.  \n",
      "\n",
      "A recommended poem is \"Populist\" by George Oppen: \n",
      "I dreamed myself of their people, I am of their people, I thought they watched me that I watched them that they watched the sun and the clouds for the cities are no longer mine image images of existence (or song of myself?) and the roads for the light in the rear-view mirror is not death but the light of other lives tho if I stumble on a rock I speak of rock if I am to say anythinganything if I am to tell of myself splendor of the roads secrecy of paths for a word like a glass sphere encloses the word opening and opening myself and I am sick for a moment with fear let the magic infants speak we who have brought steel and stone again and again into the cities in that word blind word must speak and speak the magic infants’ speech driving northward the populist north slowly in the sunrise the lapping of shallow waters tongues of the inlets glisten like fur in the low tides all that childhood envied the sounds of the ocean over the flatlands poems piers foolhardy structures and the lives the ingenious lives the winds squall from the grazing ranches’ wandering fences young workmen’s loneliness on the structures has touched and touched the heavy tools tools in our hands in the clamorous country birth- light savage light of the landscape magic page the magic infants speak \n",
      "\n",
      "A recommended poem is \"Time of the Missile\" by George Oppen: \n",
      "I remember a square of New York’s Hudson River glinting between warehouses. Difficult to approach the water below the pier Swirling, covered with oil the ship at the pier A steel wall: tons in the water, Width. The hand for holding, Legs for walking, The eye sees! It floods in on us from here to Jersey tangled in the grey bright air! Become the realm of nations. My love, my love, We are endangered Totally at last. Look Anywhere to the sight’s limit: space Which is viviparous: Place of the mind And eye. Which can destroy us, Re-arrange itself, assert Its own stone chain reaction. \n",
      "\n",
      "A recommended poem is \"Poem Ending with a Sentence by Heath Ledger\" by Frank Bidart: \n",
      "Each grinding flattened American vowel smashed to centerlessness, his glee that whatever long ago mutilated his mouth, he has mastered to mutilate you: the Joker's voice, so unlike the bruised, withheld, wounded voice of Ennis Del Mar. Once I have the voice that's the line and at the end ofthe line is a hook and attached to that is the soul.  \n",
      "\n",
      "A recommended poem is \"Darkness Starts\" by Christian Wiman: \n",
      "A shadow in the shape of a house slides out of a house and loses its shape on the lawn. Trees seek each other as the wind within them dies. Darkness starts inside of things but keeps on going when the things are gone. Barefoot careless in the farthest parts of the yard children become their cries. \n",
      "\n"
     ]
    }
   ],
   "source": [
    "### genre text model ###\n",
    "\n",
    "# genre text\n",
    "metrics = [genre * 1.5, text]\n",
    "\n",
    "# recommendations\n",
    "recommend(metrics, 5, 0)"
   ]
  },
  {
   "cell_type": "code",
   "execution_count": 11,
   "metadata": {},
   "outputs": [
    {
     "name": "stdout",
     "output_type": "stream",
     "text": [
      "Your poem is \"1-800-FEAR\" by Jody Gladding: \n",
      "We'd like to talk with you about fear they said so many people live in fear these days they drove up all four of them in a small car nice boy they said beautiful dogs they said so friendly the man ahead of the woman the other two waiting in the drive I was outside digging up the garden no one home I said what are you selling anyway I'm not interested I said well you have a nice day they said here's our card there's a phone number you can call anytime any other houses down this road anyone else live here we'd like to talk to them about living in fear \n",
      "\n",
      "A recommended poem is \"Art is an Act\" by Jody Gladding: \n",
      "not self of violence against will not be gainsaid will brook no argument won't suffer the fools gladly would I climb a mountain of salt with you before dawn lodestar my freight the violent silence the most beautiful word is trespass \n",
      "\n",
      "A recommended poem is \"hill wife\" by Jody Gladding: \n",
      "beside the grave the ties gave was she there everywhere in the fern or return when he called her of black alder on her lips the fresh chips or felled tree she was free and no child and too wild \n",
      "\n",
      "A recommended poem is \"Bede&#39;s Death Song\" by The Venerable Bede: \n",
      "Fore there neidfaerae naenig uuiurthit thoncsnotturra than him tharf sie to ymbhycggannae aer his hiniongae huaet his gastae godaes aeththa yflaes aefter deothdaege doemid uueorthae. \n",
      "\n",
      "A recommended poem is \"Congregations\" by Omar Pérez: \n",
      "One fisherman alongside the other one seagull alongside the other seagulls over the fishermen.  \n",
      "\n",
      "A recommended poem is \"Benny Said, Ruby Said\" by J. Patrick Lewis: \n",
      "Benny said To Ruby Lee, “M-A-R-R-Y M-E!” Ruby said, To Benny, “Ben, wouldn't That be F-U-N?” Benny said, “My Ruby Lee, We will W-E-D Only if you let me K- I-S-S you Every day!” \n",
      "\n"
     ]
    }
   ],
   "source": [
    "### text author model ###\n",
    "\n",
    "# text author\n",
    "metrics = [text, author]\n",
    "\n",
    "# recommendations\n",
    "recommend(metrics, 5, 0)"
   ]
  },
  {
   "cell_type": "code",
   "execution_count": 12,
   "metadata": {},
   "outputs": [
    {
     "name": "stdout",
     "output_type": "stream",
     "text": [
      "Your poem is \"1-800-FEAR\" by Jody Gladding: \n",
      "We'd like to talk with you about fear they said so many people live in fear these days they drove up all four of them in a small car nice boy they said beautiful dogs they said so friendly the man ahead of the woman the other two waiting in the drive I was outside digging up the garden no one home I said what are you selling anyway I'm not interested I said well you have a nice day they said here's our card there's a phone number you can call anytime any other houses down this road anyone else live here we'd like to talk to them about living in fear \n",
      "\n",
      "A recommended poem is \"Art is an Act\" by Jody Gladding: \n",
      "not self of violence against will not be gainsaid will brook no argument won't suffer the fools gladly would I climb a mountain of salt with you before dawn lodestar my freight the violent silence the most beautiful word is trespass \n",
      "\n",
      "A recommended poem is \"hill wife\" by Jody Gladding: \n",
      "beside the grave the ties gave was she there everywhere in the fern or return when he called her of black alder on her lips the fresh chips or felled tree she was free and no child and too wild \n",
      "\n",
      "A recommended poem is \"Bede&#39;s Death Song\" by The Venerable Bede: \n",
      "Fore there neidfaerae naenig uuiurthit thoncsnotturra than him tharf sie to ymbhycggannae aer his hiniongae huaet his gastae godaes aeththa yflaes aefter deothdaege doemid uueorthae. \n",
      "\n",
      "A recommended poem is \"Congregations\" by Omar Pérez: \n",
      "One fisherman alongside the other one seagull alongside the other seagulls over the fishermen.  \n",
      "\n",
      "A recommended poem is \"Benny Said, Ruby Said\" by J. Patrick Lewis: \n",
      "Benny said To Ruby Lee, “M-A-R-R-Y M-E!” Ruby said, To Benny, “Ben, wouldn't That be F-U-N?” Benny said, “My Ruby Lee, We will W-E-D Only if you let me K- I-S-S you Every day!” \n",
      "\n"
     ]
    }
   ],
   "source": [
    "### text author model ###\n",
    "\n",
    "# text author\n",
    "metrics = [text, author * 2]\n",
    "\n",
    "# recommendations\n",
    "recommend(metrics, 5, 0)"
   ]
  },
  {
   "cell_type": "code",
   "execution_count": 13,
   "metadata": {},
   "outputs": [
    {
     "name": "stdout",
     "output_type": "stream",
     "text": [
      "Your poem is \"1-800-FEAR\" by Jody Gladding: \n",
      "We'd like to talk with you about fear they said so many people live in fear these days they drove up all four of them in a small car nice boy they said beautiful dogs they said so friendly the man ahead of the woman the other two waiting in the drive I was outside digging up the garden no one home I said what are you selling anyway I'm not interested I said well you have a nice day they said here's our card there's a phone number you can call anytime any other houses down this road anyone else live here we'd like to talk to them about living in fear \n",
      "\n",
      "A recommended poem is \"Portrait of D17: Female, 37 Years Old\" by Paisley Rekdal: \n",
      "In Phnom Penh’s museum, the skulls are stacked in aquarium tanks: grim toys for hooks to ply free from the rubble. Here, each one gets a tag, a mount, a photograph to suggest a life, perhaps a name, might be envisioned. Yet I’m more moved by what’s anonymous, past; imagine fields of faces sunken with decay, eyes jellied in their sockets, heel meats bruised, bloated in the rain— Perhaps the skulls prefer a lack of names as, scrubbed of self and skin, they’re trauma’s best witnesses: fused by time and pain to one crisis, never to be separated. Lost as men, they become event. in this, they achieve a terrible transcendence.  \n",
      "\n",
      "A recommended poem is \"Populist\" by George Oppen: \n",
      "I dreamed myself of their people, I am of their people, I thought they watched me that I watched them that they watched the sun and the clouds for the cities are no longer mine image images of existence (or song of myself?) and the roads for the light in the rear-view mirror is not death but the light of other lives tho if I stumble on a rock I speak of rock if I am to say anythinganything if I am to tell of myself splendor of the roads secrecy of paths for a word like a glass sphere encloses the word opening and opening myself and I am sick for a moment with fear let the magic infants speak we who have brought steel and stone again and again into the cities in that word blind word must speak and speak the magic infants’ speech driving northward the populist north slowly in the sunrise the lapping of shallow waters tongues of the inlets glisten like fur in the low tides all that childhood envied the sounds of the ocean over the flatlands poems piers foolhardy structures and the lives the ingenious lives the winds squall from the grazing ranches’ wandering fences young workmen’s loneliness on the structures has touched and touched the heavy tools tools in our hands in the clamorous country birth- light savage light of the landscape magic page the magic infants speak \n",
      "\n",
      "A recommended poem is \"Poem Ending with a Sentence by Heath Ledger\" by Frank Bidart: \n",
      "Each grinding flattened American vowel smashed to centerlessness, his glee that whatever long ago mutilated his mouth, he has mastered to mutilate you: the Joker's voice, so unlike the bruised, withheld, wounded voice of Ennis Del Mar. Once I have the voice that's the line and at the end ofthe line is a hook and attached to that is the soul.  \n",
      "\n",
      "A recommended poem is \"Time of the Missile\" by George Oppen: \n",
      "I remember a square of New York’s Hudson River glinting between warehouses. Difficult to approach the water below the pier Swirling, covered with oil the ship at the pier A steel wall: tons in the water, Width. The hand for holding, Legs for walking, The eye sees! It floods in on us from here to Jersey tangled in the grey bright air! Become the realm of nations. My love, my love, We are endangered Totally at last. Look Anywhere to the sight’s limit: space Which is viviparous: Place of the mind And eye. Which can destroy us, Re-arrange itself, assert Its own stone chain reaction. \n",
      "\n",
      "A recommended poem is \"Darkness Starts\" by Christian Wiman: \n",
      "A shadow in the shape of a house slides out of a house and loses its shape on the lawn. Trees seek each other as the wind within them dies. Darkness starts inside of things but keeps on going when the things are gone. Barefoot careless in the farthest parts of the yard children become their cries. \n",
      "\n"
     ]
    }
   ],
   "source": [
    "### genre text author model ###\n",
    "\n",
    "# genre text author\n",
    "metrics = [genre, text, author]\n",
    "\n",
    "# recommendations\n",
    "recommend(metrics, 5, 0)"
   ]
  },
  {
   "cell_type": "code",
   "execution_count": 14,
   "metadata": {},
   "outputs": [
    {
     "name": "stdout",
     "output_type": "stream",
     "text": [
      "Your poem is \"1-800-FEAR\" by Jody Gladding: \n",
      "We'd like to talk with you about fear they said so many people live in fear these days they drove up all four of them in a small car nice boy they said beautiful dogs they said so friendly the man ahead of the woman the other two waiting in the drive I was outside digging up the garden no one home I said what are you selling anyway I'm not interested I said well you have a nice day they said here's our card there's a phone number you can call anytime any other houses down this road anyone else live here we'd like to talk to them about living in fear \n",
      "\n",
      "A recommended poem is \"hill wife\" by Jody Gladding: \n",
      "beside the grave the ties gave was she there everywhere in the fern or return when he called her of black alder on her lips the fresh chips or felled tree she was free and no child and too wild \n",
      "\n",
      "A recommended poem is \"Portrait of D17: Female, 37 Years Old\" by Paisley Rekdal: \n",
      "In Phnom Penh’s museum, the skulls are stacked in aquarium tanks: grim toys for hooks to ply free from the rubble. Here, each one gets a tag, a mount, a photograph to suggest a life, perhaps a name, might be envisioned. Yet I’m more moved by what’s anonymous, past; imagine fields of faces sunken with decay, eyes jellied in their sockets, heel meats bruised, bloated in the rain— Perhaps the skulls prefer a lack of names as, scrubbed of self and skin, they’re trauma’s best witnesses: fused by time and pain to one crisis, never to be separated. Lost as men, they become event. in this, they achieve a terrible transcendence.  \n",
      "\n",
      "A recommended poem is \"Populist\" by George Oppen: \n",
      "I dreamed myself of their people, I am of their people, I thought they watched me that I watched them that they watched the sun and the clouds for the cities are no longer mine image images of existence (or song of myself?) and the roads for the light in the rear-view mirror is not death but the light of other lives tho if I stumble on a rock I speak of rock if I am to say anythinganything if I am to tell of myself splendor of the roads secrecy of paths for a word like a glass sphere encloses the word opening and opening myself and I am sick for a moment with fear let the magic infants speak we who have brought steel and stone again and again into the cities in that word blind word must speak and speak the magic infants’ speech driving northward the populist north slowly in the sunrise the lapping of shallow waters tongues of the inlets glisten like fur in the low tides all that childhood envied the sounds of the ocean over the flatlands poems piers foolhardy structures and the lives the ingenious lives the winds squall from the grazing ranches’ wandering fences young workmen’s loneliness on the structures has touched and touched the heavy tools tools in our hands in the clamorous country birth- light savage light of the landscape magic page the magic infants speak \n",
      "\n",
      "A recommended poem is \"Art is an Act\" by Jody Gladding: \n",
      "not self of violence against will not be gainsaid will brook no argument won't suffer the fools gladly would I climb a mountain of salt with you before dawn lodestar my freight the violent silence the most beautiful word is trespass \n",
      "\n",
      "A recommended poem is \"Time of the Missile\" by George Oppen: \n",
      "I remember a square of New York’s Hudson River glinting between warehouses. Difficult to approach the water below the pier Swirling, covered with oil the ship at the pier A steel wall: tons in the water, Width. The hand for holding, Legs for walking, The eye sees! It floods in on us from here to Jersey tangled in the grey bright air! Become the realm of nations. My love, my love, We are endangered Totally at last. Look Anywhere to the sight’s limit: space Which is viviparous: Place of the mind And eye. Which can destroy us, Re-arrange itself, assert Its own stone chain reaction. \n",
      "\n"
     ]
    }
   ],
   "source": [
    "### genre text author model ###\n",
    "\n",
    "# genre text author\n",
    "metrics = [genre, text, author * 2]\n",
    "\n",
    "# recommendations\n",
    "recommend(metrics, 5, 0)"
   ]
  },
  {
   "cell_type": "markdown",
   "metadata": {},
   "source": [
    "#### Insights\n",
    "\n",
    "We made the following observations:\n",
    "* text alone seems to make bad recommendations\n",
    "* although author is important in making recommendations, since it is only 1 number, we need to increase its weight to x2\n",
    "* genre seems to be the most useful metric\n",
    "* combination of all 3 seems to make the best recommendations\n",
    "\n",
    "We will test the \"best\" model on two more poems to see if it seems consistent."
   ]
  },
  {
   "cell_type": "code",
   "execution_count": 16,
   "metadata": {},
   "outputs": [
    {
     "name": "stdout",
     "output_type": "stream",
     "text": [
      "Your poem is \"1 January 1965\" by Joseph Brodsky: \n",
      "The Wise Men will unlearn your name. Above your head no star will flame. One weary sound will be the same— the hoarse roar of the gale. The shadows fall from your tired eyes as your lone bedside candle dies, for here the calendar breeds nights till stores of candles fail. What prompts this melancholy key? A long familiar melody. It sounds again. So let it be. Let it sound from this night. Let it sound in my hour of death— as gratefulness of eyes and lips for that which sometimes makes us lift our gaze to the far sky. You glare in silence at the wall. Your stocking gapes: no gifts at all. It's clear that you are now too old to trust in good Saint Nick; that it's too late for miracles. —But suddenly, lifting your eyes to heaven's light, you realize: your life is a sheer gift. \n",
      "\n",
      "A recommended poem is \"Burning the Old Year\" by Naomi Shihab Nye: \n",
      "Letters swallow themselves in seconds. Notes friends tied to the doorknob, transparent scarlet paper, sizzle like moth wings, marry the air. So much of any year is flammable, lists of vegetables, partial poems. Orange swirling flame of days, so little is a stone. Where there was something and suddenly isn’t, an absence shouts, celebrates, leaves a space. I begin again with the smallest numbers. Quick dance, shuffle of losses and leaves, only the things I didn’t do crackle after the blazing dies. \n",
      "\n",
      "A recommended poem is \"February Evening in New York\" by Denise Levertov: \n",
      "As the stores close, a winter light opens air to iris blue, glint of frost through the smoke grains of mica, salt of the sidewalk. As the buildings close, released autonomous feet pattern the streets in hurry and stroll; balloon heads drift and dive above them; the bodies aren't really there. As the lights brighten, as the sky darkens, a woman with crooked heels says to another woman while they step along at a fair pace, &quot;You know, I'm telling you, what I love best is life. I love life! Even if I ever get to be old and wheezy—or limp! You know? Limping along?—I'd still ... &quot; Out of hearing. To the multiple disordered tones of gears changing, a dance to the compass points, out, four-way river. Prospect of sky wedged into avenues, left at the ends of streets, west sky, east sky: more life tonight! A range of open time at winter's outskirts. \n",
      "\n",
      "A recommended poem is \"The Ballad of Blasphemous Bill\" by Robert W. Service: \n",
      "I took a contract to bury the body of blasphemous Bill MacKie, Whenever, wherever or whatsoever the manner of death he die — Whether he die in the light o’ day or under the peak-faced moon; In cabin or dance-hall, camp or dive, mucklucks or patent shoon; On velvet tundra or virgin peak, by glacier, drift or draw; In muskeg hollow or canyon gloom, by avalanche, fang or claw; By battle, murder or sudden wealth, by pestilence, hooch or lead — I swore on the Book I would follow and look till I found my tombless dead. For Bill was a dainty kind of cuss, and his mind was mighty sot On a dinky patch with flowers and grass in a civilized boneyard lot. And where he died or how he died, it didn’t matter a damn So long as he had a grave with frills and a tombstone “epigram.” So I promised him, and he paid the price in good cheechako coin (Which the same I blowed in that very night down in the Tenderloin). Then I painted a three-foot slab of pine: “Here lies poor Bill MacKie,” And I hung it up on my cabin wall and I waited for Bill to die. Years passed away, and at last one day came a squaw with a story strange, Of a long-deserted line of traps ’way back of the Bighorn range, Of a little hut by the great divide, and a white man stiff and still, Lying there by his lonesome self, and I figured it must be Bill. So I thought of the contract I’d made with him, and I took down from the shelf The swell black box with the silver plate he’d picked out for hisself; And I packed it full of grub and “hooch,” and I slung it on the sleigh; Then I harnessed up my team of dogs and was off at dawn of day. You know what it’s like in the Yukon wild when it’s sixty-nine below; When the ice-worms wriggle their purple heads through the crust of the pale blue snow; When the pine-trees crack like little guns in the silence of the wood, And the icicles hang down like tusks under the parka hood; When the stove-pipe smoke breaks sudden off, and the sky is weirdly lit, And the careless feel of a bit of steel burns like a red-hot spit; When the mercury is a frozen ball, and the frost-fiend stalks to kill — Well, it was just like that that day when I set out to look for Bill. Oh, the awful hush that seemed to crush me down on every hand, As I blundered blind with a trail to find through that blank and bitter land; Half dazed, half crazed in the winter wild, with its grim heartbreaking woes, And the ruthless strife for a grip on life that only the sourdough knows! North by the compass, North I pressed; river and peak and plain Passed like a dream I slept to lose and I waked to dream again. River and plain and mighty peak — and who could stand unawed? As their summits blazed, he could stand undazed at the foot of the throne of God. North, aye, North, through a land accurst, shunned by the scouring brutes, And all I heard was my own harsh word and the whine of the malamutes, Till at last I came to a cabin squat, built in the side of a hill, And I burst in the door, and there on the floor, frozen to death, lay Bill. Ice, white ice, like a winding-sheet, sheathing each smoke-grimed wall; Ice on the stove-pipe, ice on the bed, ice gleaming over all; Sparkling ice on the dead man’s chest, glittering ice in his hair, Ice on his fingers, ice in his heart, ice in his glassy stare; Hard as a log and trussed like a frog, with his arms and legs outspread. I gazed at the coffin I’d brought for him, and I gazed at the gruesome dead, And at last I spoke: “Bill liked his joke; but still, goldarn his eyes, A man had ought to consider his mates in the way he goes and dies.” Have you ever stood in an Arctic hut in the shadow of the Pole, With a little coffin six by three and a grief you can’t control? Have you ever sat by a frozen corpse that looks at you with a grin, And that seems to say: “You may try all day, but you’ll never jam me in”? I’m not a man of the quitting kind, but I never felt so blue As I sat there gazing at that stiff and studying what I’d do. Then I rose and I kicked off the husky dogs that were nosing round about, And I lit a roaring fire in the stove, and I started to thaw Bill out. Well, I thawed and thawed for thirteen days, but it didn’t seem no good; His arms and legs stuck out like pegs, as if they was made of wood. Till at last I said: “It ain’t no use — he’s froze too hard to thaw; He’s obstinate, and he won’t lie straight, so I guess I got to — saw.” So I sawed off poor Bill’s arms and legs, and I laid him snug and straight In the little coffin he picked hisself, with the dinky silver plate, And I came nigh near to shedding a tear as I nailed him safely down; Then I stowed him away in my Yukon sleigh, and I started back to town. So I buried him as the contract was in a narrow grave and deep, And there he’s waiting the Great Clean-up, when the Judgment sluice-heads sweep; And I smoke my pipe and I meditate in the light of the Midnight Sun, And sometimes I wonder if they was, the awful things I done. And as I sit and the parson talks, expounding of the Law, I often think of poor old Bill — and how hard he was to saw. \n",
      "\n",
      "A recommended poem is \"Absences\" by Donald Justice: \n",
      "It's snowing this afternoon and there are no flowers. There is only this sound of falling, quiet and remote, Like the memory of scales descending the white keys Of a childhood piano—outside the window, palms! And the heavy head of the cereus, inclining, Soon to let down its white or yellow-white. Now, only these poor snow-flowers in a heap, Like the memory of a white dress cast down . . . So much has fallen. And I, who have listened for a step All afternoon, hear it now, but already falling away, Already in memory. And the terrible scales descending On the silent piano; the snow; and the absent flowers abounding. \n",
      "\n",
      "A recommended poem is \"from Don&#39;t Let Me Be Lonely: “There is a button on the remote control called FAV...”\" by Claudia Rankine: \n",
      "There is a button on the remote control called FAV. You can program your favorite channels. Don’t like the world you live in, choose one closer to the world you live in. I choose the independent film channel and HBO. Neither have news programs as far as I can tell. This is what is great about America—anyone can make these kinds of choices. Instead of the news, HBO has The Sopranos. This week the indie channel is playing and replaying Spaghetti Westerns. Always someone gets shot or pierced through the heart with an arrow, and just before he dies he says, I am not going to make it. Where? Not going to make it where? On some level, maybe, the phrase simply means not going to make it into the next day, hour, minute, or perhaps the next second. Occasionally, you can imagine, it means he is not going to make it to Carson City or Texas or somewhere else out west or to Mexico if he is on the run. On another level always implicit is the sense that it means he is not going to make it to his own death. Perhaps in the back of all our minds is the life expectancy for our generation. Perhaps this expectation lingers there alongside the hours of sleep one should get or the number of times one is meant to chew food—eight hours, twenty chews, and seventy-six years. We are all heading there and not to have that birthday is not to have made it. \n",
      "\n"
     ]
    }
   ],
   "source": [
    "### genre text author model ###\n",
    "\n",
    "# genre text author\n",
    "metrics = [genre, text, author * 2]\n",
    "\n",
    "# recommendations\n",
    "recommend(metrics, 5, 1)"
   ]
  },
  {
   "cell_type": "code",
   "execution_count": 17,
   "metadata": {},
   "outputs": [
    {
     "name": "stdout",
     "output_type": "stream",
     "text": [
      "Your poem is \"10-Year-Old Shot Three Times, but She’s Fine\" by Patricia Smith: \n",
      "Dumbfounded in hospital whites, you are picture-book itty-bit, floundering in bleach and steel. Braids untwirl and corkscrew, you squirm, the crater in your shoulder spews a soft voltage. On a TV screwed into the wall above your head, neon rollicks. A wide-eyed train engine perfectly smokes, warbles a song about forward. Who shot you, baby? I don’t know. I was playing. You didn’t see anyone? I was playing with my friend Sharon. I was on the swing and she was— Are you sure you didn’t— No, I ain’t seen nobody but Sharon. I heard people yelling though, and— Each bullet repainted you against the brick, kicked you a little sideways, made you need air differently. You leaked something that still goldens the boulevard. I ain’t seen nobody, I told you. And at A. Lincoln Elementary on Washington Street, or Jefferson Elementary on Madison Street, or Adams Elementary just off the Eisenhower Expressway, we gather the ingredients, if not the desire, for pathos: an imploded homeroom, your empty seat pulsating with drooped celebrity, the sometime counselor underpaid and elsewhere, a harried teacher struggling toward your full name. Anyway your grades weren’t all that good. No need to coo or encircle anything, no call for anyone to pull their official white fingers through your raveled hair, no reason to introduce the wild notion of loving you loud and regardless. Oh, and they’ve finally located your mama, who will soon burst in with her cut-rate cure of stammering Jesus’ name. Beneath the bandages, your chest crawls shut. Perky ol’ Thomas winks a bold-faced lie from his clacking track, and your heart monitor hums a wry tune no one will admit they’ve already heard. Elsewhere, 23 seconds rumble again and again through Sharon’s body. Boom, boom, she says to no one. \n",
      "\n",
      "A recommended poem is \"When Black Men Drown Their Daughters\" by Patricia Smith: \n",
      "When black, men drown. They spend their whole lifetimes justifying the gall of springing the trap, the inconvenience of slouched denim, of coupling beyond romance or aim. All the while, the rising murk edges toward their chins. Hurriedly, someone crafts another scientific tome, a giddy exploration of the curious dysfunction identifying black men first as possible, then as necessary. Elegant equations succumb to a river that blurs quotient and theory, rendering them unreadable, and the overwhelm easily disappears the men, their wiry heads glistening, then gulped. All that’s left is the fathers’ last wisdom, soaked wreckage on silver: Girl, that water ain’t nothing but wet. I’m gon’ be alright. When black men drown, their daughters turn to their mothers and ask What should I do with this misnamed shiver in my left shoulder? How should I dress in public? They are weary of standing at the shore, hands shading their eyes, trying to make out their own fathers among the thousands bobbing in the current. The mothers mumble and point to any flailing that seems familiar. Mostly, they’re wrong. Buoyed by church moans and comfort food of meat and cream, the daughters try on other names that sound oddly broken when pressed against the dank syllables of the fathers’. Drained, with just forward in mind, they walk using the hip of only one parent. They scratch in their sleep. Black water wells up in the wound. When black men drown, their daughters are fascinated with the politics of water, how gorgeously a surface breaks to receive, how it weeps so sanely shut. And the thrashing of hands, shrieking of names: I was Otis, I was Willie Earl, they called me Catfish. Obsessed by the waltzing of tides, the daughters remember their fathers—the scorch of beard electrifying the once-in-a-while kiss, the welts in thick arms, eyes wearied with so many of the same days wedged behind them. When black men drown, their daughters memorize all the steps involved in the deluge. They know how long it takes for a weakened man to dissolve. A muted light, in the shape of a little girl, used to be enough to light a daddy’s way home. When black men drown, their daughters drag the water’s floor with rotting nets, pull in whatever still breathes. They insist their still-dripping daddies sit down for cups of insanely sweetened tea, sniffs of rotgut, tangled dinners based on improbable swine. The girls hope to reacquaint their drowned fathers with the concept of body, but outlines slosh in drift and retreat. The men can’t get dry. Parched, they scrub flooded hollows and weep for water to give them name and measure as mere blood once did. Knocking over those spindly-legged dinette chairs, they interrupt the failed feast and mutter Baby girl, gotta go, baby gotta go, their eyes misted with their own murders. Grabbing their girls, they spit out love in reverse and stumble toward the banks of some river. When black men drown their daughters, the rash act is the only plausible response to the brain’s tenacious mouth and its dare: Yes, yes, open your ashed hands and release that wingless child. Note the arc of the sun-drenched nosedive, the first syllable of the child’s name unwilling from the man’s mouth, the melody of billow that begins as blessed clutch. Someone crouching inside the father waits impatiently for the shutting, the lethargic envelop, and wonders if the daughter’s wide and realizing eye will ever close to loose him. It never will, and the man and his child and the daughter and her father gaze calmly into the wrecked science of each other’s lives. The sun struggles to spit a perfect gold upon the quieting splash. The river pulses stylish circles of its filth around the swallow.  \n",
      "\n",
      "A recommended poem is \"Buried\" by Patricia Smith: \n",
      "“We do not dig graves or put caskets into graves any longer. The decision was made and funeral homes were notified that families and funeral homes would have to supply grave-digging personnel.” —Ed Mazoue, New Orleans City Real Estate Administrator and Person in Charge of the City’s Cemeteries There’s nothing but mud. The ground looks dry and firm, but underneath is a stew of storm. Stout shovels, rusted, grow gummed and heavy with what I heft and rearrange. Progress is slow. The sun so often steams me shut, and I have to stop to gulp sugared bites of tea, flick away sweat with my swollen fingers, swat hard at sluggish flies who hover, like they know. And when I start again, there’s a rhythm to it, some ticking jazz that gets my square hips involved. I craft a chant purely for downbeat: Plunge. Push. Lift. Toss it. Plunge. Push. Lift. Toss it. My untried muscles blaze, joints click, pulse clutches my chest. Whole clocks later, I pause to relish the feat, to marvel at the way I’ve compromised the earth, how I’ve been that kind of God for a minute. But only time has moved. It’s like trying to reach the next world with a spoon. My boy would have laughed. Daddy, you better sit down and watch some ball game, and we’d settle, Sunday lazy, his squirm balanced on my belly. He needed what I was and what I wasn’t. Giggling in little language, he lobbed me the ball soft, walked slower when I was at his side, shared puffed white bread and purple jelly. He waited patiently for me after dark while I shuffled piles of books, looking for a bedtime drama of spacemen or soldiers, some crayoned splash to wrap his day around. But every night, when I opened the door to his room, all I saw was a quivering mountain of Snoopys, Blues, and Scoobys. Underneath them, his happy body could barely cage breath. Giggles unleashed his toes. My line, then: Where are yoooou? Plunge. Push. Lift. Toss it. Plunge. Push. Lift. Toss— With the dirt balanced high, screaming my shoulder, I think hard on those nights of tussle and squeal. I want to feel his heat and twist in my arms again. I have to dig. \n",
      "\n",
      "A recommended poem is \"Reemergence of the Noose\" by Patricia Smith: \n",
      "Some lamp sputters its dusty light across some desk. Some hand, shaking, works the strained rope, twisting and knifing, weaving, tugging tight a bellowing circle. Randy Travis, steamy drawl and hiccup on the staticky AM, backs the ritual of drooping loop. Sweat drips an awful hallelujah. God glares askance, but the artist doesn’t waver—wrists click cadence, knots become a path to what makes saviors. The sagging hoop bemoans a need to squeeze, its craving for a breath within the ring. \n",
      "\n",
      "A recommended poem is \"Siblings\" by Patricia Smith: \n",
      "Hurricanes, 2005 Arlene learned to dance backwards in heels that were too high. Bret prayed for a shaggy mustache made of mud and hair. Cindy just couldn’t keep her windy legs together. Dennis never learned to swim. Emily whispered her gusts into a thousand skins. Franklin, farsighted and anxious, bumbled villages. Gert spat her matronly name against a city’s flat face. Harvey hurled a wailing child high. Irene, the baby girl, threw pounding tantrums. José liked the whip sound of slapping. Lee just craved the whip. Maria’s thunder skirts flew high when she danced. Nate was mannered and practical. He stormed precisely. Ophelia nibbled weirdly on the tips of depressions. Philippe slept too late, flailing on a wronged ocean. Rita was a vicious flirt. She woke Philippe with rumors. Stan was born business, a gobbler of steel. Tammy crooned country, getting the words all wrong. Vince died before anyone could remember his name. Wilma opened her maw wide, flashing rot. None of them talked about Katrina. She was their odd sister, the blood dazzler. \n",
      "\n",
      "A recommended poem is \"Katrina\" by Patricia Smith: \n",
      "I was birthed restless and elsewhere gut dragging and bulging with ball lightning, slush, broke through with branches, steel I was bitch-monikered, hipped, I hefted a whip rain, a swirling sheet of grit. Scraping toward the first of you, hungering for wood, walls, unturned skin. With shifting and frantic mouth, I loudly loved the slow bones of elders, fools, and willows. \n",
      "\n"
     ]
    }
   ],
   "source": [
    "### genre text author model ###\n",
    "\n",
    "# genre text author\n",
    "metrics = [genre, text, author * 2]\n",
    "\n",
    "# recommendations\n",
    "recommend(metrics, 5, 2)"
   ]
  },
  {
   "cell_type": "markdown",
   "metadata": {},
   "source": [
    "#### Conclusions:\n",
    "The final model using text, genre, and author x 2 seems to be the best of all the models and gives good poetry recommendations."
   ]
  }
 ],
 "metadata": {
  "kernelspec": {
   "display_name": "Python 3",
   "language": "python",
   "name": "python3"
  },
  "language_info": {
   "codemirror_mode": {
    "name": "ipython",
    "version": 3
   },
   "file_extension": ".py",
   "mimetype": "text/x-python",
   "name": "python",
   "nbconvert_exporter": "python",
   "pygments_lexer": "ipython3",
   "version": "3.7.4"
  }
 },
 "nbformat": 4,
 "nbformat_minor": 4
}
